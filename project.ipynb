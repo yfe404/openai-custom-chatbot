{
 "cells": [
  {
   "cell_type": "markdown",
   "id": "124e5672",
   "metadata": {},
   "source": [
    "# Custom Chatbot Project"
   ]
  },
  {
   "cell_type": "markdown",
   "id": "2a4a94b3",
   "metadata": {},
   "source": [
    "## Why Using Course Notes on Dieting is Appropriate for a Custom OpenAI Chatbot:\n",
    "\n",
    "- **Relevance and Specificity**: \n",
    "    Course notes, by their nature, are structured and condensed summaries of comprehensive topics. Using course notes on dieting ensures the chatbot will be equipped with information that is both relevant and focused on key aspects of dieting.\n",
    "\n",
    "- **Authority and Reliability**: \n",
    "    Assuming these course notes come from a recognized educational institution or a reputable course, they represent a trusted source of information. Chatbots thrive when provided with reliable and authoritative data sources.\n",
    "\n",
    "- **Complexity and Depth**: \n",
    "    Dieting is not just about losing weight; it's about nutrition, understanding different body types, metabolic rates, the role of exercise, and more. Course notes are likely to provide a broad yet detailed overview, making them ideal for training a chatbot to answer diverse questions on the topic.\n",
    "\n",
    "- **Structure and Organization**: \n",
    "    Course notes are typically well-organized, often broken down into sections, sub-sections, and bullet points. This organized structure can help the model generate clear and concise answers based on the way the information is presented.\n",
    "\n",
    "- **Updated Information**: \n",
    "    Academic courses usually get updated frequently to include new research findings and methodologies. Using course notes ensures the chatbot is referencing recent and relevant information.\n",
    "\n",
    "- **Consistency**: \n",
    "    Course notes maintain a consistent style and tone. This can help in ensuring the chatbot’s responses have a uniform tone and style, making interactions feel more coherent\n"
   ]
  },
  {
   "cell_type": "markdown",
   "id": "a63d4c5f",
   "metadata": {},
   "source": [
    "## Data Wrangling\n",
    "\n",
    "TODO: In the cells below, load your chosen dataset into a `pandas` dataframe with a column named `\"text\"`. This column should contain all of your text data, separated into at least 20 rows."
   ]
  },
  {
   "cell_type": "code",
   "execution_count": 4,
   "id": "c69b83a1",
   "metadata": {},
   "outputs": [],
   "source": [
    "import re\n",
    "import requests\n",
    "import openai\n",
    "import tiktoken\n",
    "import pandas as pd\n",
    "\n",
    "openai.api_key = \"YOUR API KEY\""
   ]
  },
  {
   "cell_type": "markdown",
   "id": "c60acb29-fe38-4db8-8d51-a255626c5806",
   "metadata": {},
   "source": [
    "### 0. Getting the data"
   ]
  },
  {
   "cell_type": "code",
   "execution_count": 5,
   "id": "0a595980",
   "metadata": {},
   "outputs": [],
   "source": [
    "with requests.get(\"https://raw.githubusercontent.com/yfe404/nutrition-course-notes/master/readme.org\", stream=True) as response:\n",
    "    response.raise_for_status()  # Raise an exception for HTTP errors\n",
    "    \n",
    "    with open(\"notes.org\", 'wb') as fd:\n",
    "        for chunk in response.iter_content(chunk_size=8192):\n",
    "            fd.write(chunk)\n",
    "\n",
    "with open(\"notes.org\", \"r\") as fd:\n",
    "    file_content = \"\\n\".join(fd.readlines())"
   ]
  },
  {
   "cell_type": "markdown",
   "id": "2550d958-7fce-45e5-90f4-5d6c3a0298df",
   "metadata": {},
   "source": [
    "### 1. Preparing the data"
   ]
  },
  {
   "cell_type": "code",
   "execution_count": 6,
   "id": "3d496e50-005a-4f76-a594-d812f4529f50",
   "metadata": {},
   "outputs": [],
   "source": [
    "# Regular expression pattern to capture titles and the chunks between them\n",
    "pattern = r'\\*\\* (.*?)\\n(.*?)(?=\\*\\* |\\Z)'\n",
    "\n",
    "# Find all matches\n",
    "matches = re.findall(pattern, file_content, re.DOTALL)\n",
    "\n",
    "# Create dataframe\n",
    "df = pd.DataFrame(matches, columns=['title', 'text'])\n",
    "\n",
    "df['text'] = df['title'] + '\\n' + df['text']\n",
    "\n",
    "# Drop the individual 'title' and 'text' columns\n",
    "df = df[['text']]"
   ]
  },
  {
   "cell_type": "markdown",
   "id": "c74eecaf-2edf-4287-87a3-8633a59f1b03",
   "metadata": {},
   "source": [
    "### 2. Add embeddings"
   ]
  },
  {
   "cell_type": "code",
   "execution_count": 7,
   "id": "06e2d7d5-f34e-4c53-a91f-9637f17fb08a",
   "metadata": {},
   "outputs": [],
   "source": [
    "EMBEDDING_MODEL_NAME = \"text-embedding-ada-002\"\n",
    "batch_size = 100\n",
    "embeddings = []\n",
    "for i in range(0, len(df), batch_size):\n",
    "    # Send text data to OpenAI model to get embeddings\n",
    "    response = openai.Embedding.create(\n",
    "        input=df.iloc[i:i+batch_size][\"text\"].tolist(),\n",
    "        engine=EMBEDDING_MODEL_NAME\n",
    "    )\n",
    "\n",
    "    # Add embeddings to list\n",
    "    embeddings.extend([data[\"embedding\"] for data in response[\"data\"]])\n",
    "\n",
    "# Add embeddings list to dataframe\n",
    "df[\"embeddings\"] = embeddings"
   ]
  },
  {
   "cell_type": "markdown",
   "id": "ae769871",
   "metadata": {},
   "source": [
    "## Custom Query Completion\n",
    "\n",
    "TODO: In the cells below, compose a custom query using your chosen dataset and retrieve results from an OpenAI `Completion` model. You may copy and paste any useful code from the course materials."
   ]
  },
  {
   "cell_type": "code",
   "execution_count": 8,
   "id": "582f0656",
   "metadata": {},
   "outputs": [],
   "source": [
    "#  finding the pieces of data with the shortest cosine distance from the query. : \n",
    "\n",
    "from openai.embeddings_utils import get_embedding, distances_from_embeddings\n",
    "\n",
    "def get_rows_sorted_by_relevance(question, df):\n",
    "    \"\"\"\n",
    "    Function that takes in a question string and a dataframe containing\n",
    "    rows of text and associated embeddings, and returns that dataframe\n",
    "    sorted from least to most relevant for that question\n",
    "    \"\"\"\n",
    "\n",
    "    # Get embeddings for the question text\n",
    "    question_embeddings = get_embedding(question, engine=EMBEDDING_MODEL_NAME)\n",
    "\n",
    "    # Make a copy of the dataframe and add a \"distances\" column containing\n",
    "    # the cosine distances between each row's embeddings and the\n",
    "    # embeddings of the question\n",
    "    df_copy = df.copy()\n",
    "    df_copy[\"distances\"] = distances_from_embeddings(\n",
    "        question_embeddings,\n",
    "        df_copy[\"embeddings\"].values,\n",
    "        distance_metric=\"cosine\"\n",
    "    )\n",
    "\n",
    "    # Sort the copied dataframe by the distances and return it\n",
    "    # (shorter distance = more relevant so we sort in ascending order)\n",
    "    df_copy.sort_values(\"distances\", ascending=True, inplace=True)\n",
    "    return df_copy"
   ]
  },
  {
   "cell_type": "code",
   "execution_count": 22,
   "id": "8b6e1f75",
   "metadata": {},
   "outputs": [],
   "source": [
    "def create_prompt(question, df, max_token_count):\n",
    "    \"\"\"\n",
    "    Given a question and a dataframe containing rows of text and their\n",
    "    embeddings, return a text prompt to send to a Completion model\n",
    "    \"\"\"\n",
    "    # Create a tokenizer that is designed to align with our embeddings\n",
    "    tokenizer = tiktoken.get_encoding(\"cl100k_base\")\n",
    "\n",
    "    # Count the number of tokens in the prompt template and question\n",
    "    prompt_template = \"\"\"\n",
    "Answer the question based on the context below, and if the question\n",
    "can't be answered based on the context, say \"I don't know\"\n",
    "\n",
    "Context: \n",
    "\n",
    "{}\n",
    "\n",
    "---\n",
    "\n",
    "Question: {}\n",
    "Answer:\"\"\"\n",
    "\n",
    "    current_token_count = len(tokenizer.encode(prompt_template)) + \\\n",
    "                            len(tokenizer.encode(question))\n",
    "\n",
    "    context = []\n",
    "    for text in get_rows_sorted_by_relevance(question, df)[\"text\"].values:\n",
    "\n",
    "        # Increase the counter based on the number of tokens in this row\n",
    "        text_token_count = len(tokenizer.encode(text))\n",
    "        current_token_count += text_token_count\n",
    "\n",
    "        # Add the row of text to the list if we haven't exceeded the max\n",
    "        if current_token_count <= max_token_count:\n",
    "            context.append(text)\n",
    "        else:\n",
    "            break\n",
    "\n",
    "    return prompt_template.format(\"\\n\\n###\\n\\n\".join(context), question)"
   ]
  },
  {
   "cell_type": "code",
   "execution_count": 36,
   "id": "74280b92",
   "metadata": {},
   "outputs": [],
   "source": [
    "def ask_question(question: str, prompt_args: dict = {}, prompt_function=lambda x: x):\n",
    "    response = openai.Completion.create(\n",
    "        model=\"text-davinci-003\",\n",
    "        prompt=prompt_function(question, **prompt_args),\n",
    "        max_tokens=150\n",
    "    )\n",
    "\n",
    "    return response[\"choices\"][0][\"text\"].strip()"
   ]
  },
  {
   "cell_type": "markdown",
   "id": "1783f146",
   "metadata": {},
   "source": [
    "## Custom Performance Demonstration\n",
    "\n",
    "TODO: In the cells below, demonstrate the performance of your custom query using at least 2 questions. For each question, show the answer from a basic `Completion` model query as well as the answer from your custom query."
   ]
  },
  {
   "cell_type": "markdown",
   "id": "4f11fdc0",
   "metadata": {},
   "source": [
    "### Question 1"
   ]
  },
  {
   "cell_type": "code",
   "execution_count": 37,
   "id": "a4b95aa9-058f-4e6d-8e2a-014ebeff5200",
   "metadata": {},
   "outputs": [
    {
     "data": {
      "text/plain": [
       "'Exercise and diet are equally important for weight loss. You need to create a calorie deficit by both eating fewer calories and burning more calories through physical activity in order to lose weight. Making lifestyle changes such as increasing your physical activity and eating healthy, balanced meals can help you achieve your weight loss goals.'"
      ]
     },
     "execution_count": 37,
     "metadata": {},
     "output_type": "execute_result"
    }
   ],
   "source": [
    "question=\"What is more important for weight loss ?\"\n",
    "ask_question(question)"
   ]
  },
  {
   "cell_type": "code",
   "execution_count": 38,
   "id": "4901c850",
   "metadata": {},
   "outputs": [
    {
     "data": {
      "text/plain": [
       "'Calories in vs. calories out.'"
      ]
     },
     "execution_count": 38,
     "metadata": {},
     "output_type": "execute_result"
    }
   ],
   "source": [
    "ask_question(question, {\"df\": df, \"max_token_count\": 150}, create_prompt)"
   ]
  },
  {
   "cell_type": "markdown",
   "id": "6e86e37c",
   "metadata": {},
   "source": [
    "### Question 2"
   ]
  },
  {
   "cell_type": "code",
   "execution_count": 39,
   "id": "3871ca7b-7e26-4633-a9ba-1a25201c5351",
   "metadata": {},
   "outputs": [
    {
     "data": {
      "text/plain": [
       "'1. Exercise \\n2. Healthy Eating Habits \\n3. Discipline \\n4. Support System \\n5. Achievable Goals \\n6. Tracking Progress \\n7. Avoiding Temptations \\n8. Positive Self-Talk'"
      ]
     },
     "execution_count": 39,
     "metadata": {},
     "output_type": "execute_result"
    }
   ],
   "source": [
    "question=\"Rank the most important factors in successful dieting\"\n",
    "ask_question(question)"
   ]
  },
  {
   "cell_type": "code",
   "execution_count": 40,
   "id": "6f646989",
   "metadata": {},
   "outputs": [
    {
     "data": {
      "text/plain": [
       "'1. Calorie Balance 2. Macronutrient Amounts 3. Nutrient Timing 4. Food Composition 5. Supplements'"
      ]
     },
     "execution_count": 40,
     "metadata": {},
     "output_type": "execute_result"
    }
   ],
   "source": [
    "ask_question(question, {\"df\": df, \"max_token_count\": 150}, create_prompt)"
   ]
  },
  {
   "cell_type": "markdown",
   "id": "60a676fd-4ef9-4ac2-a981-94b57d688271",
   "metadata": {},
   "source": [
    "### Interactive Mode"
   ]
  },
  {
   "cell_type": "code",
   "execution_count": null,
   "id": "0cd8c05d-4e60-4940-afbb-972be41c985d",
   "metadata": {},
   "outputs": [
    {
     "name": "stdin",
     "output_type": "stream",
     "text": [
      "Please type your question (or type 'exit' to quit):  When should I eat carbs, when shouldn't I? \n"
     ]
    },
    {
     "name": "stdout",
     "output_type": "stream",
     "text": [
      "According to your workout schedule.\n"
     ]
    },
    {
     "name": "stdin",
     "output_type": "stream",
     "text": [
      "Please type your question (or type 'exit' to quit):  What can I eat before a workout?\n"
     ]
    },
    {
     "name": "stdout",
     "output_type": "stream",
     "text": [
      "It depends on what type of workout you will be doing and your personal dietary choices. It is generally recommended to eat a snack with complex carbohydrates and proteins about an hour or two before your workout for sustained energy.\n"
     ]
    },
    {
     "name": "stdin",
     "output_type": "stream",
     "text": [
      "Please type your question (or type 'exit' to quit):  What should I eat during the workout?\n"
     ]
    },
    {
     "name": "stdout",
     "output_type": "stream",
     "text": [
      "I don't know.\n"
     ]
    },
    {
     "name": "stdin",
     "output_type": "stream",
     "text": [
      "Please type your question (or type 'exit' to quit):  What should I eat after the workout?\n"
     ]
    },
    {
     "name": "stdout",
     "output_type": "stream",
     "text": [
      "I don't know.\n"
     ]
    },
    {
     "name": "stdin",
     "output_type": "stream",
     "text": [
      "Please type your question (or type 'exit' to quit):  What is vitamin A useful for? \n"
     ]
    },
    {
     "name": "stdout",
     "output_type": "stream",
     "text": [
      "Vitamin A is useful for maintaining eyesight and preventing night blindness, improving the immune system, helping with fat storage and protecting against infections, growing new cells, lowering cholesterol and reducing the risk of heart disease.\n"
     ]
    },
    {
     "name": "stdin",
     "output_type": "stream",
     "text": [
      "Please type your question (or type 'exit' to quit):  How to know if I need more vitamin A ?\n"
     ]
    },
    {
     "name": "stdout",
     "output_type": "stream",
     "text": [
      "Consult a healthcare professional to know if you need more vitamin A.\n"
     ]
    }
   ],
   "source": [
    "while True:\n",
    "    question = input(\"Please type your question (or type 'exit' to quit): \")\n",
    "    \n",
    "    if question.lower() == 'exit':\n",
    "        break\n",
    "    \n",
    "    # Here, you can process the question or do something with it.\n",
    "    # I'll simply print it back for demonstration purposes.\n",
    "    print(ask_question(question, {\"df\": df, \"max_token_count\": 150}, create_prompt))\n"
   ]
  },
  {
   "cell_type": "code",
   "execution_count": null,
   "id": "579e09de-4477-49d7-b150-2d2bece04eb8",
   "metadata": {},
   "outputs": [],
   "source": []
  }
 ],
 "metadata": {
  "kernelspec": {
   "display_name": "Python 3 (ipykernel)",
   "language": "python",
   "name": "python3"
  },
  "language_info": {
   "codemirror_mode": {
    "name": "ipython",
    "version": 3
   },
   "file_extension": ".py",
   "mimetype": "text/x-python",
   "name": "python",
   "nbconvert_exporter": "python",
   "pygments_lexer": "ipython3",
   "version": "3.9.16"
  }
 },
 "nbformat": 4,
 "nbformat_minor": 5
}
